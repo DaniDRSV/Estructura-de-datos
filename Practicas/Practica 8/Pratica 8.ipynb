{
 "cells": [
  {
   "cell_type": "markdown",
   "metadata": {},
   "source": [
    "Ejercicio 1: Escribe un programa que abra un archivo de texto llamado \"archivo.txt\" en modo\n",
    "lectura, lo lea línea por línea y lo muestre en la pantalla.\n"
   ]
  },
  {
   "cell_type": "code",
   "execution_count": null,
   "metadata": {},
   "outputs": [],
   "source": [
    "# Abre el archivo en modo lectura\n",
    "with open('archivo.txt', 'r') as file:\n",
    "    for line in file:\n",
    "        print(line.strip())"
   ]
  },
  {
   "cell_type": "markdown",
   "metadata": {},
   "source": [
    "Ejercicio 2: Crea un programa que solicite al usuario que ingrese una serie de nombres y escriba\n",
    "esos nombres en un archivo llamado \"nombres.txt\", uno por línea."
   ]
  },
  {
   "cell_type": "code",
   "execution_count": null,
   "metadata": {},
   "outputs": [],
   "source": [
    "nombres = []\n",
    "while True:\n",
    "    nombre = input(\"Ingrese un nombre (o escriba 'fin' para terminar): \")\n",
    "    if nombre == \"fin\":\n",
    "        break\n",
    "    nombres.append(nombre)\n",
    "\n",
    "with open(\"nombres.txt\", \"w\") as archivo:\n",
    "    for nombre in nombres:\n",
    "        archivo.write(nombre + \"\\n\")"
   ]
  },
  {
   "cell_type": "markdown",
   "metadata": {},
   "source": [
    "Ejercicio 3: Manejo de excepciones Escribe un programa que intente abrir un archivo que no existe\n",
    "(por ejemplo, \"archivo_inexistente.txt\"). Implementa el manejo de la excepción FileNotFoundError\n",
    "para mostrar un mensaje amigable al usuario en caso de que el archivo no se encuentre."
   ]
  },
  {
   "cell_type": "code",
   "execution_count": null,
   "metadata": {},
   "outputs": [],
   "source": [
    "try:\n",
    "    with open(\"archivo.txt\", \"r\") as file:\n",
    "        content = file.read()\n",
    "except FileNotFoundError:\n",
    "    print(\"El archivo no se encuentra.\")"
   ]
  }
 ],
 "metadata": {
  "kernelspec": {
   "display_name": "Python 3",
   "language": "python",
   "name": "python3"
  },
  "language_info": {
   "codemirror_mode": {
    "name": "ipython",
    "version": 3
   },
   "file_extension": ".py",
   "mimetype": "text/x-python",
   "name": "python",
   "nbconvert_exporter": "python",
   "pygments_lexer": "ipython3",
   "version": "3.11.2"
  }
 },
 "nbformat": 4,
 "nbformat_minor": 2
}
