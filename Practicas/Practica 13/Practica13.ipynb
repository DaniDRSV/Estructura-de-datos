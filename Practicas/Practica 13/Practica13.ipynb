{
 "cells": [
  {
   "cell_type": "markdown",
   "metadata": {},
   "source": [
    "1. Diseña una clase llamada Biblioteca que utilice una pila para gestionar libros prestados.\n",
    "Implementa métodos para prestar, devolver y mostrar el estado de la pila. Crea una\n",
    "instancia de la clase y realiza operaciones de préstamo y devolución con libros específicos\n",
    "como \"Cien años de soledad\" o \"Don Quijote de la Mancha\". Imprime mensajes\n",
    "informativos para cada operación y muestra el estado de la pila después de ciertas\n",
    "acciones."
   ]
  },
  {
   "cell_type": "code",
   "execution_count": null,
   "metadata": {},
   "outputs": [],
   "source": [
    "class Biblioteca:\n",
    "    def __init__(self):\n",
    "        self.libros = []\n",
    "\n",
    "    def prestar(self, libro):\n",
    "        self.libros.append(libro)\n",
    "        print(f'Has prestado el libro \"{libro}\"')\n",
    "\n",
    "    def devolver(self):\n",
    "        if not self.libros:\n",
    "            print('No hay libros para devolver')\n",
    "            return None\n",
    "        libro_devuelto = self.libros.pop()\n",
    "        print(f'Has devuelto el libro \"{libro_devuelto}\"')\n",
    "        return libro_devuelto\n",
    "\n",
    "    def mostrar_estado(self):\n",
    "        print(f'Libros prestados: {self.libros}')\n",
    "\n",
    "biblioteca = Biblioteca()\n",
    "biblioteca.prestar(\"Cien años de soledad\")\n",
    "biblioteca.prestar(\"Don Quijote de la Mancha\")\n",
    "biblioteca.mostrar_estado()\n",
    "biblioteca.devolver()\n",
    "biblioteca.mostrar_estado()"
   ]
  },
  {
   "cell_type": "markdown",
   "metadata": {},
   "source": [
    "2. Diseña un programa en Python que simule la atención de clientes en un banco. La atención\n",
    "debe seguir el principio \"primero en llegar, primero en ser atendido\" (FIFO - First In, First\n",
    "Out) utilizando una estructura de cola."
   ]
  },
  {
   "cell_type": "code",
   "execution_count": null,
   "metadata": {},
   "outputs": [],
   "source": [
    "from collections import deque\n",
    "\n",
    "class Banco:\n",
    "    def __init__(self):\n",
    "        self.clientes = deque()\n",
    "\n",
    "    def llega_cliente(self, cliente):\n",
    "        self.clientes.append(cliente)\n",
    "        print(f'El cliente {cliente} ha llegado al banco')\n",
    "\n",
    "    def atender_cliente(self):\n",
    "        if not self.clientes:\n",
    "            print('No hay clientes para atender')\n",
    "            return None\n",
    "        cliente_atendido = self.clientes.popleft()\n",
    "        print(f'Se ha atendido al cliente {cliente_atendido}')\n",
    "        return cliente_atendido\n",
    "\n",
    "banco = Banco()\n",
    "banco.llega_cliente(\"Cliente 1\")\n",
    "banco.llega_cliente(\"Cliente 2\")\n",
    "banco.atender_cliente()\n",
    "banco.atender_cliente()"
   ]
  }
 ],
 "metadata": {
  "language_info": {
   "name": "python"
  }
 },
 "nbformat": 4,
 "nbformat_minor": 2
}
