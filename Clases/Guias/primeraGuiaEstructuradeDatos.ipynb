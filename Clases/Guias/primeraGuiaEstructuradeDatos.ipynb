{
 "cells": [
  {
   "attachments": {},
   "cell_type": "markdown",
   "metadata": {},
   "source": [
    "<h1>Primera guia de ejercicios</h1>\n",
    "\n",
    "<p>1. Agregue 20 números entre el 0 y 100 de forma aleatoria a una lista, luego crear dos listas, en una\n",
    "se agregarán los valores pares y en la otra lista los valores impares; utilizando el operador de\n",
    "decisión if para validar, se recomienda el uso de random para los valores aleatorios y estructuras\n",
    "ciclicas.</p>"
   ]
  },
  {
   "cell_type": "code",
   "execution_count": 16,
   "metadata": {},
   "outputs": [],
   "source": [
    "def ejercicioUno():\n",
    "    import random \n",
    "    numeros = [random.randint(0, 100) for _ in range(20)] \n",
    "    pares = [] \n",
    "    impares = [] \n",
    "    for num in numeros: \n",
    "        if num % 2 == 0: \n",
    "            pares.append(num)\n",
    "        else:\n",
    "            impares.append(num)\n",
    "        \n",
    "    print(\"Pares:\", pares)     \n",
    "    print(\"Impares:\", impares)"
   ]
  },
  {
   "attachments": {},
   "cell_type": "markdown",
   "metadata": {},
   "source": [
    "<p>2. Dada la lista de números = [ 1, 2, 3, 4, 5, 9, 8, 7, 6, 10], cree una nueva lista en la cual almacenará\n",
    "los valores cuadrados de los números de la lista dada, finalmente mostrará en pantalla el contenido\n",
    "de la lista creada.</p>"
   ]
  },
  {
   "cell_type": "code",
   "execution_count": 17,
   "metadata": {},
   "outputs": [],
   "source": [
    "def ejercicioDos():\n",
    "    numeros = [1, 2, 3, 4, 5, 9, 8, 7, 6, 10] \n",
    "    cuadrados = [num ** 2 for num in numeros] \n",
    "    print(\"Lista de numeros al cuadrado:\", cuadrados)\n"
   ]
  },
  {
   "attachments": {},
   "cell_type": "markdown",
   "metadata": {},
   "source": [
    "<p>3. Cree una tupla con los meses del año, escriba una función que reciba valores entre 1 y 12, está\n",
    "retornará el nombre del mes que ha seleccionado, ejemplo: 3 = Marzo.</p>"
   ]
  },
  {
   "cell_type": "code",
   "execution_count": 18,
   "metadata": {},
   "outputs": [],
   "source": [
    "def ejercicioTres():\n",
    "    def getMonthNames(monthNumber): \n",
    "        month = [ \"Enero\", \"Febrero\", \"Marzo\", \"Abril\", \"Mayo\", \"Junio\", \"Julio\", \"Agosto\", \"Septiembre\", \"Octubre\", \"Noviembre\", \"Diciembre\" ]\n",
    "    \n",
    "        if 1 <= monthNumber <= 12:\n",
    "            return month[monthNumber - 1]\n",
    "        else: \n",
    "            return \"Número de mes inválido\" \n",
    "    \n",
    "    numero = int(input(\"Ingresa un número entre 1 y 12: \")) \n",
    "    monthName = getMonthNames(numero)\n",
    "    print(monthName)\n"
   ]
  },
  {
   "attachments": {},
   "cell_type": "markdown",
   "metadata": {},
   "source": [
    "<p>4. Elaborar un script que reciba una cadena desde consola, deberá contar cuántas palabras existen\n",
    "en la cadena que ingresó, contar las palabras de una cadena que se proporcionará posteriormente,\n",
    "mostrar en consola las cadenas por separado con sus respectivas cantidades de palabras y el total\n",
    "de palabras que existe entre las dos cadenas, puede utilizar split.\n",
    "Frase = \"Medir el progreso en un proyecto de programación por líneas de código, es como medir\n",
    "la construcción de un aeroplano por su peso.\"\n",
    "</p>"
   ]
  },
  {
   "cell_type": "code",
   "execution_count": 19,
   "metadata": {},
   "outputs": [],
   "source": [
    "def ejercicioCuatro():\n",
    "    def contar_palabras(cadena):\n",
    "        palabras = cadena.split() \n",
    "        return len(palabras) \n",
    "\n",
    "    cadena = input(\"Escriba una frase profunda...: \")\n",
    "    cantidad_palabras = contar_palabras(cadena) \n",
    "    print(f\"La frase tiene {cantidad_palabras} palabras.\")\n"
   ]
  },
  {
   "attachments": {},
   "cell_type": "markdown",
   "metadata": {},
   "source": [
    "<p>5. Elaborar un script a partir de una lista dada, deberá buscar los datos repetidos y guardarlos en\n",
    "una segunda lista, cree una tercera lista, la cual contendrá los datos de la segunda lista, con los\n",
    "valores elevados a la cuarta potencia, imprimir la lista 1 ordenada de menor a mayor, la lista 2 de\n",
    "mayor a menor y la lista 3 solo se mostrará en pantalla, puede utilizar set.\n",
    "ListaUno = [ 1, 3, 4, 5, 7, 8, 9, 2, 5, 6, 4, 12, 20, 3, 7, 9, 0, 1, 4, 3, 8]\n",
    "</p>"
   ]
  },
  {
   "cell_type": "code",
   "execution_count": 20,
   "metadata": {},
   "outputs": [],
   "source": [
    "def ejercicioCinco():\n",
    "    listaUno = [21, 3, 4, 5, 7, 8, 9, 2, 5, 6, 4, 12, 20, 3, 7, 9, 0, 1, 4, 3, 8]\n",
    "    listaDos = list(set([num for num in listaUno if listaUno.count(num) > 1])) \n",
    "    listaTres = [num ** 4 for num in listaDos] \n",
    "\n",
    "    listaUno.sort() \n",
    "    listaDos.sort(reverse=True) \n",
    "    listaTres.sort(reverse=True)\n",
    "\n",
    "    print(\"Lista 1 ordenada:\", listaUno) \n",
    "    print(\"Lista 2 ordenada:\", listaDos) \n",
    "    print(\"Lista 3:\", listaTres)\n"
   ]
  },
  {
   "attachments": {},
   "cell_type": "markdown",
   "metadata": {},
   "source": [
    "<p>6. Cree un script el cual solicite por consola 10 valores enteros los cuales se agregaran a una lista,\n",
    "luego de haber llenado la lista deberá buscar el número de menor valor y el de mayor valor, dichos\n",
    "números tienen que ser eliminados de la lista y generar el cuadrado de los mismos, es decir, que si\n",
    "el número menor es 1 y el mayor es 3, el cuadrado de estos serán 1 y 9, estos resultados se deben\n",
    "agregar al final de la lista; mostrar en pantalla la lista creada originalmente, los números\n",
    "mayor/menor y el resultado final de la lista.</p>"
   ]
  },
  {
   "cell_type": "code",
   "execution_count": 21,
   "metadata": {},
   "outputs": [],
   "source": [
    "def ejercicioSeis():\n",
    "    numero = [int(input(f\"Escriba el numero entero n° {i + 1}: \")) for i in range(10)] \n",
    "    numeroMenor = min(numero) \n",
    "    numeroMayor = max(numero) \n",
    "    numero.remove(numeroMenor) \n",
    "    numero.remove(numeroMayor) \n",
    "    numero.extend([numeroMenor ** 2, numeroMayor ** 2])\n",
    "     \n",
    "    print(\"Lista original:\", numero[:-2]) \n",
    "    print(f\"Número de menor valor: {numeroMenor}, el cual su cuadradoo es: {numeroMenor ** 2}\")\n",
    "    print(f\"Número de mayor valor: {numeroMayor}, el cual su cuadrado es: {numeroMayor ** 2}\") \n",
    "    print(\"Lista final:\", numero)\n"
   ]
  },
  {
   "attachments": {},
   "cell_type": "markdown",
   "metadata": {},
   "source": [
    "<h2>Menu de ejercicios</h2>"
   ]
  },
  {
   "cell_type": "code",
   "execution_count": null,
   "metadata": {},
   "outputs": [],
   "source": [
    "while True: \n",
    "    print(\".:: Menú de Ejercicios ::.\") \n",
    "    print(\"1) Ejercicio 1 \" +\n",
    "          \"\\n2) Ejercicio 2\" +\n",
    "          \"\\n3) Ejercicio 3\" +\n",
    "          \"\\n4) Ejercicio 4\" +\n",
    "          \"\\n5) Ejercicio 5\" +\n",
    "          \"\\n6) Ejercicio 6\" +\n",
    "          \"\\n7) Salir\") \n",
    "    \n",
    "    opcion = int(input(\"Elige una opción (1-7): \")) \n",
    "    if opcion == 1: \n",
    "        ejercicioUno() \n",
    "    elif opcion == 2: \n",
    "        ejercicioDos() \n",
    "    elif opcion == 3: \n",
    "        ejercicioTres() \n",
    "    elif opcion == 4: \n",
    "        ejercicioCuatro() \n",
    "    elif opcion == 5: \n",
    "        ejercicioCinco() \n",
    "    elif opcion == 6: \n",
    "        ejercicioSeis() \n",
    "    elif opcion == 7: \n",
    "        print(\"Saliendo... Gracias por revisar inge :D\") \n",
    "        break \n",
    "    else: \n",
    "        print(\"Por favor, elija una opcion valida. D\\':\")"
   ]
  }
 ],
 "metadata": {
  "kernelspec": {
   "display_name": "Python 3",
   "language": "python",
   "name": "python3"
  },
  "language_info": {
   "codemirror_mode": {
    "name": "ipython",
    "version": 3
   },
   "file_extension": ".py",
   "mimetype": "text/x-python",
   "name": "python",
   "nbconvert_exporter": "python",
   "pygments_lexer": "ipython3",
   "version": "3.11.2"
  },
  "orig_nbformat": 4
 },
 "nbformat": 4,
 "nbformat_minor": 2
}
